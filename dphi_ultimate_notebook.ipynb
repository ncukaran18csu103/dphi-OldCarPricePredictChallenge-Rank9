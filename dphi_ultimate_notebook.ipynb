{
  "nbformat": 4,
  "nbformat_minor": 0,
  "metadata": {
    "colab": {
      "name": "dphi_ultimate notebook.ipynb",
      "provenance": [],
      "collapsed_sections": []
    },
    "kernelspec": {
      "display_name": "Python 3",
      "name": "python3"
    }
  },
  "cells": [
    {
      "cell_type": "code",
      "metadata": {
        "id": "WAjf9sHZMFMH"
      },
      "source": [
        "import numpy as np # Fundamental package for linear algebra and multidimensional arrays\r\n",
        "import pandas as pd # Data analysis and manipultion tool\r\n",
        "\r\n",
        "# In read_csv() function, we have passed the location to where the files are located in the dphi official github page.\r\n",
        "train_data = pd.read_csv(\"https://raw.githubusercontent.com/dphi-official/Datasets/master/used_car_price/train_set_label.csv\" )\r\n"
      ],
      "execution_count": 1,
      "outputs": []
    },
    {
      "cell_type": "code",
      "metadata": {
        "colab": {
          "base_uri": "https://localhost:8080/",
          "height": 204
        },
        "id": "v88ts7DB1Y6R",
        "outputId": "e5e429e8-cc70-47d3-a9e6-72c75499651e"
      },
      "source": [
        "test_data1.corr()"
      ],
      "execution_count": null,
      "outputs": [
        {
          "output_type": "execute_result",
          "data": {
            "text/html": [
              "<div>\n",
              "<style scoped>\n",
              "    .dataframe tbody tr th:only-of-type {\n",
              "        vertical-align: middle;\n",
              "    }\n",
              "\n",
              "    .dataframe tbody tr th {\n",
              "        vertical-align: top;\n",
              "    }\n",
              "\n",
              "    .dataframe thead th {\n",
              "        text-align: right;\n",
              "    }\n",
              "</style>\n",
              "<table border=\"1\" class=\"dataframe\">\n",
              "  <thead>\n",
              "    <tr style=\"text-align: right;\">\n",
              "      <th></th>\n",
              "      <th>year</th>\n",
              "      <th>odometer</th>\n",
              "      <th>county</th>\n",
              "      <th>latitude</th>\n",
              "      <th>longitude</th>\n",
              "    </tr>\n",
              "  </thead>\n",
              "  <tbody>\n",
              "    <tr>\n",
              "      <th>year</th>\n",
              "      <td>1.000000</td>\n",
              "      <td>-0.327199</td>\n",
              "      <td>NaN</td>\n",
              "      <td>-0.023920</td>\n",
              "      <td>0.001620</td>\n",
              "    </tr>\n",
              "    <tr>\n",
              "      <th>odometer</th>\n",
              "      <td>-0.327199</td>\n",
              "      <td>1.000000</td>\n",
              "      <td>NaN</td>\n",
              "      <td>-0.002639</td>\n",
              "      <td>0.041012</td>\n",
              "    </tr>\n",
              "    <tr>\n",
              "      <th>county</th>\n",
              "      <td>NaN</td>\n",
              "      <td>NaN</td>\n",
              "      <td>NaN</td>\n",
              "      <td>NaN</td>\n",
              "      <td>NaN</td>\n",
              "    </tr>\n",
              "    <tr>\n",
              "      <th>latitude</th>\n",
              "      <td>-0.023920</td>\n",
              "      <td>-0.002639</td>\n",
              "      <td>NaN</td>\n",
              "      <td>1.000000</td>\n",
              "      <td>-0.581078</td>\n",
              "    </tr>\n",
              "    <tr>\n",
              "      <th>longitude</th>\n",
              "      <td>0.001620</td>\n",
              "      <td>0.041012</td>\n",
              "      <td>NaN</td>\n",
              "      <td>-0.581078</td>\n",
              "      <td>1.000000</td>\n",
              "    </tr>\n",
              "  </tbody>\n",
              "</table>\n",
              "</div>"
            ],
            "text/plain": [
              "               year  odometer  county  latitude  longitude\n",
              "year       1.000000 -0.327199     NaN -0.023920   0.001620\n",
              "odometer  -0.327199  1.000000     NaN -0.002639   0.041012\n",
              "county          NaN       NaN     NaN       NaN        NaN\n",
              "latitude  -0.023920 -0.002639     NaN  1.000000  -0.581078\n",
              "longitude  0.001620  0.041012     NaN -0.581078   1.000000"
            ]
          },
          "metadata": {
            "tags": []
          },
          "execution_count": 2
        }
      ]
    },
    {
      "cell_type": "code",
      "metadata": {
        "colab": {
          "base_uri": "https://localhost:8080/",
          "height": 235
        },
        "id": "NhHNMCMW1GjC",
        "outputId": "bd49737a-20d0-4c23-a146-8d631eb50b1e"
      },
      "source": [
        "train_data1.corr()"
      ],
      "execution_count": null,
      "outputs": [
        {
          "output_type": "execute_result",
          "data": {
            "text/html": [
              "<div>\n",
              "<style scoped>\n",
              "    .dataframe tbody tr th:only-of-type {\n",
              "        vertical-align: middle;\n",
              "    }\n",
              "\n",
              "    .dataframe tbody tr th {\n",
              "        vertical-align: top;\n",
              "    }\n",
              "\n",
              "    .dataframe thead th {\n",
              "        text-align: right;\n",
              "    }\n",
              "</style>\n",
              "<table border=\"1\" class=\"dataframe\">\n",
              "  <thead>\n",
              "    <tr style=\"text-align: right;\">\n",
              "      <th></th>\n",
              "      <th>year</th>\n",
              "      <th>odometer</th>\n",
              "      <th>county</th>\n",
              "      <th>latitude</th>\n",
              "      <th>longitude</th>\n",
              "      <th>price_of_car</th>\n",
              "    </tr>\n",
              "  </thead>\n",
              "  <tbody>\n",
              "    <tr>\n",
              "      <th>year</th>\n",
              "      <td>1.000000</td>\n",
              "      <td>-0.326488</td>\n",
              "      <td>NaN</td>\n",
              "      <td>-0.008947</td>\n",
              "      <td>-0.021394</td>\n",
              "      <td>0.019125</td>\n",
              "    </tr>\n",
              "    <tr>\n",
              "      <th>odometer</th>\n",
              "      <td>-0.326488</td>\n",
              "      <td>1.000000</td>\n",
              "      <td>NaN</td>\n",
              "      <td>-0.017996</td>\n",
              "      <td>0.051477</td>\n",
              "      <td>-0.278041</td>\n",
              "    </tr>\n",
              "    <tr>\n",
              "      <th>county</th>\n",
              "      <td>NaN</td>\n",
              "      <td>NaN</td>\n",
              "      <td>NaN</td>\n",
              "      <td>NaN</td>\n",
              "      <td>NaN</td>\n",
              "      <td>NaN</td>\n",
              "    </tr>\n",
              "    <tr>\n",
              "      <th>latitude</th>\n",
              "      <td>-0.008947</td>\n",
              "      <td>-0.017996</td>\n",
              "      <td>NaN</td>\n",
              "      <td>1.000000</td>\n",
              "      <td>-0.554686</td>\n",
              "      <td>-0.011009</td>\n",
              "    </tr>\n",
              "    <tr>\n",
              "      <th>longitude</th>\n",
              "      <td>-0.021394</td>\n",
              "      <td>0.051477</td>\n",
              "      <td>NaN</td>\n",
              "      <td>-0.554686</td>\n",
              "      <td>1.000000</td>\n",
              "      <td>-0.007337</td>\n",
              "    </tr>\n",
              "    <tr>\n",
              "      <th>price_of_car</th>\n",
              "      <td>0.019125</td>\n",
              "      <td>-0.278041</td>\n",
              "      <td>NaN</td>\n",
              "      <td>-0.011009</td>\n",
              "      <td>-0.007337</td>\n",
              "      <td>1.000000</td>\n",
              "    </tr>\n",
              "  </tbody>\n",
              "</table>\n",
              "</div>"
            ],
            "text/plain": [
              "                  year  odometer  county  latitude  longitude  price_of_car\n",
              "year          1.000000 -0.326488     NaN -0.008947  -0.021394      0.019125\n",
              "odometer     -0.326488  1.000000     NaN -0.017996   0.051477     -0.278041\n",
              "county             NaN       NaN     NaN       NaN        NaN           NaN\n",
              "latitude     -0.008947 -0.017996     NaN  1.000000  -0.554686     -0.011009\n",
              "longitude    -0.021394  0.051477     NaN -0.554686   1.000000     -0.007337\n",
              "price_of_car  0.019125 -0.278041     NaN -0.011009  -0.007337      1.000000"
            ]
          },
          "metadata": {
            "tags": []
          },
          "execution_count": 3
        }
      ]
    },
    {
      "cell_type": "code",
      "metadata": {
        "colab": {
          "base_uri": "https://localhost:8080/",
          "height": 419
        },
        "id": "ld-vQGYAMKOF",
        "outputId": "1f154d2b-2f50-42ea-ab54-e6c54b462c00"
      },
      "source": [
        "train_data = train_data.select_dtypes(exclude='object')\r\n",
        "train_data\r\n"
      ],
      "execution_count": null,
      "outputs": [
        {
          "output_type": "execute_result",
          "data": {
            "text/html": [
              "<div>\n",
              "<style scoped>\n",
              "    .dataframe tbody tr th:only-of-type {\n",
              "        vertical-align: middle;\n",
              "    }\n",
              "\n",
              "    .dataframe tbody tr th {\n",
              "        vertical-align: top;\n",
              "    }\n",
              "\n",
              "    .dataframe thead th {\n",
              "        text-align: right;\n",
              "    }\n",
              "</style>\n",
              "<table border=\"1\" class=\"dataframe\">\n",
              "  <thead>\n",
              "    <tr style=\"text-align: right;\">\n",
              "      <th></th>\n",
              "      <th>year</th>\n",
              "      <th>odometer</th>\n",
              "      <th>county</th>\n",
              "      <th>latitude</th>\n",
              "      <th>longitude</th>\n",
              "      <th>price_of_car</th>\n",
              "    </tr>\n",
              "  </thead>\n",
              "  <tbody>\n",
              "    <tr>\n",
              "      <th>0</th>\n",
              "      <td>2018.0</td>\n",
              "      <td>NaN</td>\n",
              "      <td>NaN</td>\n",
              "      <td>29.5407</td>\n",
              "      <td>-98.5521</td>\n",
              "      <td>24900</td>\n",
              "    </tr>\n",
              "    <tr>\n",
              "      <th>1</th>\n",
              "      <td>2006.0</td>\n",
              "      <td>169438.0</td>\n",
              "      <td>NaN</td>\n",
              "      <td>33.5161</td>\n",
              "      <td>-82.0785</td>\n",
              "      <td>0</td>\n",
              "    </tr>\n",
              "    <tr>\n",
              "      <th>2</th>\n",
              "      <td>NaN</td>\n",
              "      <td>NaN</td>\n",
              "      <td>NaN</td>\n",
              "      <td>NaN</td>\n",
              "      <td>NaN</td>\n",
              "      <td>4500</td>\n",
              "    </tr>\n",
              "    <tr>\n",
              "      <th>3</th>\n",
              "      <td>NaN</td>\n",
              "      <td>NaN</td>\n",
              "      <td>NaN</td>\n",
              "      <td>NaN</td>\n",
              "      <td>NaN</td>\n",
              "      <td>20000</td>\n",
              "    </tr>\n",
              "    <tr>\n",
              "      <th>4</th>\n",
              "      <td>NaN</td>\n",
              "      <td>NaN</td>\n",
              "      <td>NaN</td>\n",
              "      <td>NaN</td>\n",
              "      <td>NaN</td>\n",
              "      <td>0</td>\n",
              "    </tr>\n",
              "    <tr>\n",
              "      <th>...</th>\n",
              "      <td>...</td>\n",
              "      <td>...</td>\n",
              "      <td>...</td>\n",
              "      <td>...</td>\n",
              "      <td>...</td>\n",
              "      <td>...</td>\n",
              "    </tr>\n",
              "    <tr>\n",
              "      <th>37495</th>\n",
              "      <td>NaN</td>\n",
              "      <td>NaN</td>\n",
              "      <td>NaN</td>\n",
              "      <td>NaN</td>\n",
              "      <td>NaN</td>\n",
              "      <td>3199</td>\n",
              "    </tr>\n",
              "    <tr>\n",
              "      <th>37496</th>\n",
              "      <td>2006.0</td>\n",
              "      <td>NaN</td>\n",
              "      <td>NaN</td>\n",
              "      <td>35.6884</td>\n",
              "      <td>-81.3612</td>\n",
              "      <td>1500</td>\n",
              "    </tr>\n",
              "    <tr>\n",
              "      <th>37497</th>\n",
              "      <td>2017.0</td>\n",
              "      <td>56643.0</td>\n",
              "      <td>NaN</td>\n",
              "      <td>29.0462</td>\n",
              "      <td>-80.9346</td>\n",
              "      <td>25950</td>\n",
              "    </tr>\n",
              "    <tr>\n",
              "      <th>37498</th>\n",
              "      <td>2012.0</td>\n",
              "      <td>76800.0</td>\n",
              "      <td>NaN</td>\n",
              "      <td>47.8497</td>\n",
              "      <td>-122.0110</td>\n",
              "      <td>42500</td>\n",
              "    </tr>\n",
              "    <tr>\n",
              "      <th>37499</th>\n",
              "      <td>NaN</td>\n",
              "      <td>NaN</td>\n",
              "      <td>NaN</td>\n",
              "      <td>NaN</td>\n",
              "      <td>NaN</td>\n",
              "      <td>2999</td>\n",
              "    </tr>\n",
              "  </tbody>\n",
              "</table>\n",
              "<p>37500 rows × 6 columns</p>\n",
              "</div>"
            ],
            "text/plain": [
              "         year  odometer  county  latitude  longitude  price_of_car\n",
              "0      2018.0       NaN     NaN   29.5407   -98.5521         24900\n",
              "1      2006.0  169438.0     NaN   33.5161   -82.0785             0\n",
              "2         NaN       NaN     NaN       NaN        NaN          4500\n",
              "3         NaN       NaN     NaN       NaN        NaN         20000\n",
              "4         NaN       NaN     NaN       NaN        NaN             0\n",
              "...       ...       ...     ...       ...        ...           ...\n",
              "37495     NaN       NaN     NaN       NaN        NaN          3199\n",
              "37496  2006.0       NaN     NaN   35.6884   -81.3612          1500\n",
              "37497  2017.0   56643.0     NaN   29.0462   -80.9346         25950\n",
              "37498  2012.0   76800.0     NaN   47.8497  -122.0110         42500\n",
              "37499     NaN       NaN     NaN       NaN        NaN          2999\n",
              "\n",
              "[37500 rows x 6 columns]"
            ]
          },
          "metadata": {
            "tags": []
          },
          "execution_count": 4
        }
      ]
    },
    {
      "cell_type": "code",
      "metadata": {
        "id": "4XPOgEXBMOGN"
      },
      "source": [
        "train_data = train_data.drop('county', axis = 1)\r\n"
      ],
      "execution_count": null,
      "outputs": []
    },
    {
      "cell_type": "code",
      "metadata": {
        "id": "yhcEJFwSMQH_"
      },
      "source": [
        "X = train_data.drop('price_of_car', axis = 1) # her we are droping the 'price_of_car' feature as this is the target and 'X' is input features, the changes are not\r\n",
        "# made inplace as we have not used 'inplace = True'\r\n",
        "\r\n",
        "y = train_data['price_of_car'] # Output/Dependent variable\r\n",
        "from sklearn.preprocessing import StandardScaler\r\n",
        "scale_feat = StandardScaler()\r\n",
        "faeture_scaled = scale_feat.fit_transform(X)\r\n"
      ],
      "execution_count": null,
      "outputs": []
    },
    {
      "cell_type": "code",
      "metadata": {
        "colab": {
          "base_uri": "https://localhost:8080/"
        },
        "id": "bgoU0FkuMVnY",
        "outputId": "19a50597-3702-4f1d-8ee9-72a8a31b62ae"
      },
      "source": [
        "from sklearn.model_selection import train_test_split\r\n",
        "# split the data\r\n",
        "X_train, X_val, y_train, y_val = train_test_split(X,y,test_size=0.3, random_state = 17)\r\n",
        "X_train['year'] = X_train['year'].fillna(X_train['year'].mode().iloc[0])\r\n",
        "X_val['year'] = X_val['year'].fillna(X_val['year'].mode().iloc[0])\r\n",
        "\r\n",
        "X_train['odometer'].fillna(X_train['odometer'].mean(), inplace=True)\r\n",
        "X_train['latitude'].fillna(X_train['latitude'].mean(), inplace=True)\r\n",
        "X_train['longitude'].fillna(X_train['longitude'].mean(), inplace=True)\r\n",
        "\r\n",
        "X_val['odometer'].fillna(X_val['odometer'].mean(), inplace=True)\r\n",
        "X_val['latitude'].fillna(X_val['latitude'].mean(), inplace=True)\r\n",
        "X_val['longitude'].fillna(X_val['longitude'].mean(), inplace=True)\r\n",
        "X_train.info()\r\n"
      ],
      "execution_count": null,
      "outputs": [
        {
          "output_type": "stream",
          "text": [
            "<class 'pandas.core.frame.DataFrame'>\n",
            "Int64Index: 26250 entries, 22197 to 10863\n",
            "Data columns (total 4 columns):\n",
            " #   Column     Non-Null Count  Dtype  \n",
            "---  ------     --------------  -----  \n",
            " 0   year       26250 non-null  float64\n",
            " 1   odometer   26250 non-null  float64\n",
            " 2   latitude   26250 non-null  float64\n",
            " 3   longitude  26250 non-null  float64\n",
            "dtypes: float64(4)\n",
            "memory usage: 1.0 MB\n"
          ],
          "name": "stdout"
        },
        {
          "output_type": "stream",
          "text": [
            "/usr/local/lib/python3.6/dist-packages/ipykernel_launcher.py:4: SettingWithCopyWarning: \n",
            "A value is trying to be set on a copy of a slice from a DataFrame.\n",
            "Try using .loc[row_indexer,col_indexer] = value instead\n",
            "\n",
            "See the caveats in the documentation: https://pandas.pydata.org/pandas-docs/stable/user_guide/indexing.html#returning-a-view-versus-a-copy\n",
            "  after removing the cwd from sys.path.\n",
            "/usr/local/lib/python3.6/dist-packages/ipykernel_launcher.py:5: SettingWithCopyWarning: \n",
            "A value is trying to be set on a copy of a slice from a DataFrame.\n",
            "Try using .loc[row_indexer,col_indexer] = value instead\n",
            "\n",
            "See the caveats in the documentation: https://pandas.pydata.org/pandas-docs/stable/user_guide/indexing.html#returning-a-view-versus-a-copy\n",
            "  \"\"\"\n",
            "/usr/local/lib/python3.6/dist-packages/pandas/core/series.py:4536: SettingWithCopyWarning: \n",
            "A value is trying to be set on a copy of a slice from a DataFrame\n",
            "\n",
            "See the caveats in the documentation: https://pandas.pydata.org/pandas-docs/stable/user_guide/indexing.html#returning-a-view-versus-a-copy\n",
            "  downcast=downcast,\n"
          ],
          "name": "stderr"
        }
      ]
    },
    {
      "cell_type": "code",
      "metadata": {
        "id": "72EPBI3lOedE"
      },
      "source": [
        ""
      ],
      "execution_count": null,
      "outputs": []
    },
    {
      "cell_type": "code",
      "metadata": {
        "id": "LCcdjHrZ3Ba4"
      },
      "source": [
        ""
      ],
      "execution_count": null,
      "outputs": []
    },
    {
      "cell_type": "code",
      "metadata": {
        "id": "YMQ9XoCu3KMG"
      },
      "source": [
        ""
      ],
      "execution_count": null,
      "outputs": []
    },
    {
      "cell_type": "code",
      "metadata": {
        "id": "uPE361XQ3WEt"
      },
      "source": [
        ""
      ],
      "execution_count": null,
      "outputs": []
    },
    {
      "cell_type": "code",
      "metadata": {
        "colab": {
          "base_uri": "https://localhost:8080/"
        },
        "id": "Mcfn1IZiMZiF",
        "outputId": "3ddb107d-8ea5-4c83-fcca-12171425ecc7"
      },
      "source": [
        "from xgboost import XGBRegressor\r\n",
        "from sklearn.neural_network import MLPRegressor\r\n",
        "lr=XGBRegressor( learning_rate =0.01,\r\n",
        " n_estimators=10,subsample=0.3,\r\n",
        " max_depth=10,\r\n",
        " min_child_weight=10\r\n",
        " )\r\n",
        "#rain the model\r\n",
        "lr.fit(X_train, y_train)\r\n",
        "\r\n",
        "pred = lr.predict(X_val)\r\n"
      ],
      "execution_count": null,
      "outputs": [
        {
          "output_type": "stream",
          "text": [
            "[14:54:11] WARNING: /workspace/src/objective/regression_obj.cu:152: reg:linear is now deprecated in favor of reg:squarederror.\n"
          ],
          "name": "stdout"
        }
      ]
    },
    {
      "cell_type": "code",
      "metadata": {
        "colab": {
          "base_uri": "https://localhost:8080/"
        },
        "id": "YdUPo4ywMfqQ",
        "outputId": "0b8d33c6-141e-448d-c2a4-b4d0ba05006d"
      },
      "source": [
        "# import mean squared error from sklearn.metric\r\n",
        "from sklearn.metrics import mean_squared_error\r\n",
        "print('Root Mean Squared Error is: ', np.sqrt(mean_squared_error(y_val, pred)))"
      ],
      "execution_count": null,
      "outputs": [
        {
          "output_type": "stream",
          "text": [
            "Root Mean Squared Error is:  19653.832227244606\n"
          ],
          "name": "stdout"
        }
      ]
    },
    {
      "cell_type": "code",
      "metadata": {
        "id": "FumLkmatMiXi",
        "colab": {
          "base_uri": "https://localhost:8080/",
          "height": 694
        },
        "outputId": "868f0a31-7020-495b-f7a7-70ca47b1347f"
      },
      "source": [
        "\r\n",
        "test_data = pd.read_csv('https://raw.githubusercontent.com/dphi-official/Datasets/master/used_car_price/test_set_label.csv')\r\n",
        "test_data"
      ],
      "execution_count": null,
      "outputs": [
        {
          "output_type": "execute_result",
          "data": {
            "text/html": [
              "<div>\n",
              "<style scoped>\n",
              "    .dataframe tbody tr th:only-of-type {\n",
              "        vertical-align: middle;\n",
              "    }\n",
              "\n",
              "    .dataframe tbody tr th {\n",
              "        vertical-align: top;\n",
              "    }\n",
              "\n",
              "    .dataframe thead th {\n",
              "        text-align: right;\n",
              "    }\n",
              "</style>\n",
              "<table border=\"1\" class=\"dataframe\">\n",
              "  <thead>\n",
              "    <tr style=\"text-align: right;\">\n",
              "      <th></th>\n",
              "      <th>region</th>\n",
              "      <th>region_url</th>\n",
              "      <th>year</th>\n",
              "      <th>manufacturer</th>\n",
              "      <th>model_name</th>\n",
              "      <th>car_condition</th>\n",
              "      <th>#cylinders</th>\n",
              "      <th>fuel_type</th>\n",
              "      <th>odometer</th>\n",
              "      <th>title_status</th>\n",
              "      <th>transmission</th>\n",
              "      <th>vin</th>\n",
              "      <th>drive</th>\n",
              "      <th>size</th>\n",
              "      <th>car_type</th>\n",
              "      <th>car_color</th>\n",
              "      <th>image_url</th>\n",
              "      <th>car_description</th>\n",
              "      <th>county</th>\n",
              "      <th>state</th>\n",
              "      <th>latitude</th>\n",
              "      <th>longitude</th>\n",
              "    </tr>\n",
              "  </thead>\n",
              "  <tbody>\n",
              "    <tr>\n",
              "      <th>0</th>\n",
              "      <td>moses lake</td>\n",
              "      <td>https://moseslake.craigslist.org</td>\n",
              "      <td>2018.0</td>\n",
              "      <td>jeep</td>\n",
              "      <td>wrangler jk unlimited 4x4</td>\n",
              "      <td>NaN</td>\n",
              "      <td>NaN</td>\n",
              "      <td>gas</td>\n",
              "      <td>44721.0</td>\n",
              "      <td>clean</td>\n",
              "      <td>automatic</td>\n",
              "      <td>1C4HJWDG5JL864603</td>\n",
              "      <td>4wd</td>\n",
              "      <td>NaN</td>\n",
              "      <td>SUV</td>\n",
              "      <td>silver</td>\n",
              "      <td>https://images.craigslist.org/00101_3TjNxXI3xz...</td>\n",
              "      <td>2018 Jeep Wrangler JK Unlimited Sport 4x4 **Cl...</td>\n",
              "      <td>NaN</td>\n",
              "      <td>wa</td>\n",
              "      <td>46.2348</td>\n",
              "      <td>-119.1280</td>\n",
              "    </tr>\n",
              "    <tr>\n",
              "      <th>1</th>\n",
              "      <td>east oregon</td>\n",
              "      <td>https://eastoregon.craigslist.org</td>\n",
              "      <td>1988.0</td>\n",
              "      <td>gmc</td>\n",
              "      <td>sierra</td>\n",
              "      <td>good</td>\n",
              "      <td>8 cylinders</td>\n",
              "      <td>gas</td>\n",
              "      <td>NaN</td>\n",
              "      <td>clean</td>\n",
              "      <td>manual</td>\n",
              "      <td>NaN</td>\n",
              "      <td>rwd</td>\n",
              "      <td>NaN</td>\n",
              "      <td>NaN</td>\n",
              "      <td>NaN</td>\n",
              "      <td>https://images.craigslist.org/00T0T_MVIks2Lpvx...</td>\n",
              "      <td>Great truck, 12ft flatbed,with extra side wall...</td>\n",
              "      <td>NaN</td>\n",
              "      <td>or</td>\n",
              "      <td>44.8953</td>\n",
              "      <td>-117.1130</td>\n",
              "    </tr>\n",
              "    <tr>\n",
              "      <th>2</th>\n",
              "      <td>springfield</td>\n",
              "      <td>https://springfield.craigslist.org</td>\n",
              "      <td>NaN</td>\n",
              "      <td>NaN</td>\n",
              "      <td>NaN</td>\n",
              "      <td>NaN</td>\n",
              "      <td>NaN</td>\n",
              "      <td>NaN</td>\n",
              "      <td>NaN</td>\n",
              "      <td>NaN</td>\n",
              "      <td>NaN</td>\n",
              "      <td>NaN</td>\n",
              "      <td>NaN</td>\n",
              "      <td>NaN</td>\n",
              "      <td>NaN</td>\n",
              "      <td>NaN</td>\n",
              "      <td>NaN</td>\n",
              "      <td>NaN</td>\n",
              "      <td>NaN</td>\n",
              "      <td>mo</td>\n",
              "      <td>NaN</td>\n",
              "      <td>NaN</td>\n",
              "    </tr>\n",
              "    <tr>\n",
              "      <th>3</th>\n",
              "      <td>sacramento</td>\n",
              "      <td>https://sacramento.craigslist.org</td>\n",
              "      <td>NaN</td>\n",
              "      <td>NaN</td>\n",
              "      <td>NaN</td>\n",
              "      <td>NaN</td>\n",
              "      <td>NaN</td>\n",
              "      <td>NaN</td>\n",
              "      <td>NaN</td>\n",
              "      <td>NaN</td>\n",
              "      <td>NaN</td>\n",
              "      <td>NaN</td>\n",
              "      <td>NaN</td>\n",
              "      <td>NaN</td>\n",
              "      <td>NaN</td>\n",
              "      <td>NaN</td>\n",
              "      <td>NaN</td>\n",
              "      <td>NaN</td>\n",
              "      <td>NaN</td>\n",
              "      <td>ca</td>\n",
              "      <td>NaN</td>\n",
              "      <td>NaN</td>\n",
              "    </tr>\n",
              "    <tr>\n",
              "      <th>4</th>\n",
              "      <td>north mississippi</td>\n",
              "      <td>https://northmiss.craigslist.org</td>\n",
              "      <td>NaN</td>\n",
              "      <td>NaN</td>\n",
              "      <td>NaN</td>\n",
              "      <td>NaN</td>\n",
              "      <td>NaN</td>\n",
              "      <td>NaN</td>\n",
              "      <td>NaN</td>\n",
              "      <td>NaN</td>\n",
              "      <td>NaN</td>\n",
              "      <td>NaN</td>\n",
              "      <td>NaN</td>\n",
              "      <td>NaN</td>\n",
              "      <td>NaN</td>\n",
              "      <td>NaN</td>\n",
              "      <td>NaN</td>\n",
              "      <td>NaN</td>\n",
              "      <td>NaN</td>\n",
              "      <td>ms</td>\n",
              "      <td>NaN</td>\n",
              "      <td>NaN</td>\n",
              "    </tr>\n",
              "    <tr>\n",
              "      <th>...</th>\n",
              "      <td>...</td>\n",
              "      <td>...</td>\n",
              "      <td>...</td>\n",
              "      <td>...</td>\n",
              "      <td>...</td>\n",
              "      <td>...</td>\n",
              "      <td>...</td>\n",
              "      <td>...</td>\n",
              "      <td>...</td>\n",
              "      <td>...</td>\n",
              "      <td>...</td>\n",
              "      <td>...</td>\n",
              "      <td>...</td>\n",
              "      <td>...</td>\n",
              "      <td>...</td>\n",
              "      <td>...</td>\n",
              "      <td>...</td>\n",
              "      <td>...</td>\n",
              "      <td>...</td>\n",
              "      <td>...</td>\n",
              "      <td>...</td>\n",
              "      <td>...</td>\n",
              "    </tr>\n",
              "    <tr>\n",
              "      <th>12495</th>\n",
              "      <td>tulsa</td>\n",
              "      <td>https://tulsa.craigslist.org</td>\n",
              "      <td>2011.0</td>\n",
              "      <td>NaN</td>\n",
              "      <td>mazda3 hatchback</td>\n",
              "      <td>excellent</td>\n",
              "      <td>NaN</td>\n",
              "      <td>gas</td>\n",
              "      <td>105297.0</td>\n",
              "      <td>clean</td>\n",
              "      <td>automatic</td>\n",
              "      <td>NaN</td>\n",
              "      <td>NaN</td>\n",
              "      <td>NaN</td>\n",
              "      <td>NaN</td>\n",
              "      <td>NaN</td>\n",
              "      <td>https://images.craigslist.org/00D0D_gLEW2yTGbe...</td>\n",
              "      <td>zero down $139 per month. 2011 mazda mazda3 gr...</td>\n",
              "      <td>NaN</td>\n",
              "      <td>ok</td>\n",
              "      <td>35.9908</td>\n",
              "      <td>-95.8864</td>\n",
              "    </tr>\n",
              "    <tr>\n",
              "      <th>12496</th>\n",
              "      <td>ventura county</td>\n",
              "      <td>https://ventura.craigslist.org</td>\n",
              "      <td>2009.0</td>\n",
              "      <td>bmw</td>\n",
              "      <td>335i sedan</td>\n",
              "      <td>good</td>\n",
              "      <td>6 cylinders</td>\n",
              "      <td>gas</td>\n",
              "      <td>178500.0</td>\n",
              "      <td>clean</td>\n",
              "      <td>automatic</td>\n",
              "      <td>NaN</td>\n",
              "      <td>NaN</td>\n",
              "      <td>NaN</td>\n",
              "      <td>NaN</td>\n",
              "      <td>blue</td>\n",
              "      <td>https://images.craigslist.org/01313_blC2SO05ef...</td>\n",
              "      <td>Montego Blue Metallic with Dakota leather inte...</td>\n",
              "      <td>NaN</td>\n",
              "      <td>ca</td>\n",
              "      <td>34.2164</td>\n",
              "      <td>-118.8820</td>\n",
              "    </tr>\n",
              "    <tr>\n",
              "      <th>12497</th>\n",
              "      <td>baton rouge</td>\n",
              "      <td>https://batonrouge.craigslist.org</td>\n",
              "      <td>2018.0</td>\n",
              "      <td>chevrolet</td>\n",
              "      <td>silverado 3500hd cc</td>\n",
              "      <td>NaN</td>\n",
              "      <td>8 cylinders</td>\n",
              "      <td>diesel</td>\n",
              "      <td>95055.0</td>\n",
              "      <td>clean</td>\n",
              "      <td>automatic</td>\n",
              "      <td>1GB4KYCY8JF121647</td>\n",
              "      <td>4wd</td>\n",
              "      <td>full-size</td>\n",
              "      <td>truck</td>\n",
              "      <td>white</td>\n",
              "      <td>https://images.craigslist.org/00O0O_8zAQgRQ7G0...</td>\n",
              "      <td>DKR IncAsk for: Paul or Randy☎ (817) 239-73531...</td>\n",
              "      <td>NaN</td>\n",
              "      <td>la</td>\n",
              "      <td>32.7540</td>\n",
              "      <td>-97.1348</td>\n",
              "    </tr>\n",
              "    <tr>\n",
              "      <th>12498</th>\n",
              "      <td>sacramento</td>\n",
              "      <td>https://sacramento.craigslist.org</td>\n",
              "      <td>NaN</td>\n",
              "      <td>NaN</td>\n",
              "      <td>NaN</td>\n",
              "      <td>NaN</td>\n",
              "      <td>NaN</td>\n",
              "      <td>NaN</td>\n",
              "      <td>NaN</td>\n",
              "      <td>NaN</td>\n",
              "      <td>NaN</td>\n",
              "      <td>NaN</td>\n",
              "      <td>NaN</td>\n",
              "      <td>NaN</td>\n",
              "      <td>NaN</td>\n",
              "      <td>NaN</td>\n",
              "      <td>NaN</td>\n",
              "      <td>NaN</td>\n",
              "      <td>NaN</td>\n",
              "      <td>ca</td>\n",
              "      <td>NaN</td>\n",
              "      <td>NaN</td>\n",
              "    </tr>\n",
              "    <tr>\n",
              "      <th>12499</th>\n",
              "      <td>eastern NC</td>\n",
              "      <td>https://eastnc.craigslist.org</td>\n",
              "      <td>NaN</td>\n",
              "      <td>NaN</td>\n",
              "      <td>NaN</td>\n",
              "      <td>NaN</td>\n",
              "      <td>NaN</td>\n",
              "      <td>NaN</td>\n",
              "      <td>NaN</td>\n",
              "      <td>NaN</td>\n",
              "      <td>NaN</td>\n",
              "      <td>NaN</td>\n",
              "      <td>NaN</td>\n",
              "      <td>NaN</td>\n",
              "      <td>NaN</td>\n",
              "      <td>NaN</td>\n",
              "      <td>NaN</td>\n",
              "      <td>NaN</td>\n",
              "      <td>NaN</td>\n",
              "      <td>nc</td>\n",
              "      <td>NaN</td>\n",
              "      <td>NaN</td>\n",
              "    </tr>\n",
              "  </tbody>\n",
              "</table>\n",
              "<p>12500 rows × 22 columns</p>\n",
              "</div>"
            ],
            "text/plain": [
              "                  region  ... longitude\n",
              "0             moses lake  ... -119.1280\n",
              "1            east oregon  ... -117.1130\n",
              "2            springfield  ...       NaN\n",
              "3             sacramento  ...       NaN\n",
              "4      north mississippi  ...       NaN\n",
              "...                  ...  ...       ...\n",
              "12495              tulsa  ...  -95.8864\n",
              "12496     ventura county  ... -118.8820\n",
              "12497        baton rouge  ...  -97.1348\n",
              "12498         sacramento  ...       NaN\n",
              "12499         eastern NC  ...       NaN\n",
              "\n",
              "[12500 rows x 22 columns]"
            ]
          },
          "metadata": {
            "tags": []
          },
          "execution_count": 10
        }
      ]
    },
    {
      "cell_type": "code",
      "metadata": {
        "id": "yEWcNroWMlJN"
      },
      "source": [
        "test_data = test_data.select_dtypes(exclude='object')\r\n",
        "test_data = test_data.drop('county', axis = 1)\r\n",
        "test_data['year'] = test_data['year'].fillna(test_data['year'].mode().iloc[0])\r\n",
        "\r\n",
        "test_data['odometer'].fillna(test_data['odometer'].mean(), inplace=True)\r\n",
        "test_data['latitude'].fillna(test_data['latitude'].mean(), inplace=True)\r\n",
        "test_data['longitude'].fillna(test_data['longitude'].mean(), inplace=True)\r\n"
      ],
      "execution_count": null,
      "outputs": []
    },
    {
      "cell_type": "code",
      "metadata": {
        "id": "CBbg64pxMt0a"
      },
      "source": [
        "target = lr.predict(test_data)\r\n",
        "\r\n",
        "res = pd.DataFrame(target) #target is nothing but the final predictions of your model on input features of your new unseen test data\r\n",
        "res.index = test_data.index # its important for comparison. Here \"test_new\" is your new test dataset\r\n",
        "res.columns = [\"prediction\"]\r\n",
        "res.to_csv(\"submission.csv\") # the csv file will be saved locally on the same location where this notebook "
      ],
      "execution_count": null,
      "outputs": []
    },
    {
      "cell_type": "code",
      "metadata": {
        "id": "gupmxlD0_eUv"
      },
      "source": [
        ""
      ],
      "execution_count": null,
      "outputs": []
    },
    {
      "cell_type": "code",
      "metadata": {
        "id": "UvKjJ2YX_dnd"
      },
      "source": [
        ""
      ],
      "execution_count": null,
      "outputs": []
    },
    {
      "cell_type": "code",
      "metadata": {
        "id": "UlmKk8Q3Mxja"
      },
      "source": [
        "#knn best and ml regressor best model created yet"
      ],
      "execution_count": null,
      "outputs": []
    },
    {
      "cell_type": "code",
      "metadata": {
        "id": "e_sSOJIVqczp"
      },
      "source": [
        ""
      ],
      "execution_count": null,
      "outputs": []
    }
  ]
}